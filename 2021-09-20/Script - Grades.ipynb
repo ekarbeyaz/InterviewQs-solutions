{
 "cells": [
  {
   "cell_type": "markdown",
   "source": [
    "# Assigning Grades Question from InterviewQs\r\n",
    "In this notebook the question solved by using python."
   ],
   "metadata": {}
  },
  {
   "cell_type": "markdown",
   "source": [
    "## Question\r\n",
    "## Date: September 20, 2021  \r\n",
    "\r\n",
    "![Question](question.png)"
   ],
   "metadata": {}
  },
  {
   "cell_type": "code",
   "execution_count": 1,
   "source": [
    "import pandas as pd\r\n",
    "import numpy as np"
   ],
   "outputs": [],
   "metadata": {}
  },
  {
   "cell_type": "code",
   "execution_count": 2,
   "source": [
    "df = pd.DataFrame({\"student_name\": [\"Cindy Chu\", \"Mike Alvarez\", \"Adam Schultz\", \"Emma Mcdaniel\"], \"student_id\": [\"1837204\", \"1824635\", \"1945278\", \"1725488\"], \"class\": [\"Biology\", \"Physics\", \"Chemistry\", \"Mathematics\"], \"final_grade_pct\": [80, 88, 91, 67]})\r\n",
    "df"
   ],
   "outputs": [
    {
     "output_type": "execute_result",
     "data": {
      "text/html": [
       "<div>\n",
       "<style scoped>\n",
       "    .dataframe tbody tr th:only-of-type {\n",
       "        vertical-align: middle;\n",
       "    }\n",
       "\n",
       "    .dataframe tbody tr th {\n",
       "        vertical-align: top;\n",
       "    }\n",
       "\n",
       "    .dataframe thead th {\n",
       "        text-align: right;\n",
       "    }\n",
       "</style>\n",
       "<table border=\"1\" class=\"dataframe\">\n",
       "  <thead>\n",
       "    <tr style=\"text-align: right;\">\n",
       "      <th></th>\n",
       "      <th>student_name</th>\n",
       "      <th>student_id</th>\n",
       "      <th>class</th>\n",
       "      <th>final_grade_pct</th>\n",
       "    </tr>\n",
       "  </thead>\n",
       "  <tbody>\n",
       "    <tr>\n",
       "      <th>0</th>\n",
       "      <td>Cindy Chu</td>\n",
       "      <td>1837204</td>\n",
       "      <td>Biology</td>\n",
       "      <td>80</td>\n",
       "    </tr>\n",
       "    <tr>\n",
       "      <th>1</th>\n",
       "      <td>Mike Alvarez</td>\n",
       "      <td>1824635</td>\n",
       "      <td>Physics</td>\n",
       "      <td>88</td>\n",
       "    </tr>\n",
       "    <tr>\n",
       "      <th>2</th>\n",
       "      <td>Adam Schultz</td>\n",
       "      <td>1945278</td>\n",
       "      <td>Chemistry</td>\n",
       "      <td>91</td>\n",
       "    </tr>\n",
       "    <tr>\n",
       "      <th>3</th>\n",
       "      <td>Emma Mcdaniel</td>\n",
       "      <td>1725488</td>\n",
       "      <td>Mathematics</td>\n",
       "      <td>67</td>\n",
       "    </tr>\n",
       "  </tbody>\n",
       "</table>\n",
       "</div>"
      ],
      "text/plain": [
       "    student_name student_id        class  final_grade_pct\n",
       "0      Cindy Chu    1837204      Biology               80\n",
       "1   Mike Alvarez    1824635      Physics               88\n",
       "2   Adam Schultz    1945278    Chemistry               91\n",
       "3  Emma Mcdaniel    1725488  Mathematics               67"
      ]
     },
     "metadata": {},
     "execution_count": 2
    }
   ],
   "metadata": {}
  },
  {
   "cell_type": "code",
   "execution_count": 3,
   "source": [
    "df[\"final_grade_letter\"] = df[\"final_grade_pct\"].map(lambda x: \"A\" if x > 90 else \"B\" if x > 80 else \"C\" if x > 70 else \"D\")\r\n",
    "df"
   ],
   "outputs": [
    {
     "output_type": "execute_result",
     "data": {
      "text/html": [
       "<div>\n",
       "<style scoped>\n",
       "    .dataframe tbody tr th:only-of-type {\n",
       "        vertical-align: middle;\n",
       "    }\n",
       "\n",
       "    .dataframe tbody tr th {\n",
       "        vertical-align: top;\n",
       "    }\n",
       "\n",
       "    .dataframe thead th {\n",
       "        text-align: right;\n",
       "    }\n",
       "</style>\n",
       "<table border=\"1\" class=\"dataframe\">\n",
       "  <thead>\n",
       "    <tr style=\"text-align: right;\">\n",
       "      <th></th>\n",
       "      <th>student_name</th>\n",
       "      <th>student_id</th>\n",
       "      <th>class</th>\n",
       "      <th>final_grade_pct</th>\n",
       "      <th>final_grade_letter</th>\n",
       "    </tr>\n",
       "  </thead>\n",
       "  <tbody>\n",
       "    <tr>\n",
       "      <th>0</th>\n",
       "      <td>Cindy Chu</td>\n",
       "      <td>1837204</td>\n",
       "      <td>Biology</td>\n",
       "      <td>80</td>\n",
       "      <td>C</td>\n",
       "    </tr>\n",
       "    <tr>\n",
       "      <th>1</th>\n",
       "      <td>Mike Alvarez</td>\n",
       "      <td>1824635</td>\n",
       "      <td>Physics</td>\n",
       "      <td>88</td>\n",
       "      <td>B</td>\n",
       "    </tr>\n",
       "    <tr>\n",
       "      <th>2</th>\n",
       "      <td>Adam Schultz</td>\n",
       "      <td>1945278</td>\n",
       "      <td>Chemistry</td>\n",
       "      <td>91</td>\n",
       "      <td>A</td>\n",
       "    </tr>\n",
       "    <tr>\n",
       "      <th>3</th>\n",
       "      <td>Emma Mcdaniel</td>\n",
       "      <td>1725488</td>\n",
       "      <td>Mathematics</td>\n",
       "      <td>67</td>\n",
       "      <td>D</td>\n",
       "    </tr>\n",
       "  </tbody>\n",
       "</table>\n",
       "</div>"
      ],
      "text/plain": [
       "    student_name student_id        class  final_grade_pct final_grade_letter\n",
       "0      Cindy Chu    1837204      Biology               80                  C\n",
       "1   Mike Alvarez    1824635      Physics               88                  B\n",
       "2   Adam Schultz    1945278    Chemistry               91                  A\n",
       "3  Emma Mcdaniel    1725488  Mathematics               67                  D"
      ]
     },
     "metadata": {},
     "execution_count": 3
    }
   ],
   "metadata": {}
  }
 ],
 "metadata": {
  "orig_nbformat": 4,
  "language_info": {
   "name": "python",
   "version": "3.9.6",
   "mimetype": "text/x-python",
   "codemirror_mode": {
    "name": "ipython",
    "version": 3
   },
   "pygments_lexer": "ipython3",
   "nbconvert_exporter": "python",
   "file_extension": ".py"
  },
  "kernelspec": {
   "name": "python3",
   "display_name": "Python 3.9.6 64-bit ('minimal_ds': conda)"
  },
  "interpreter": {
   "hash": "e2b6d8b99aac853d6e5f2a885b3202bb244b70b9b2a87ac691d00063ddd95a06"
  }
 },
 "nbformat": 4,
 "nbformat_minor": 2
}