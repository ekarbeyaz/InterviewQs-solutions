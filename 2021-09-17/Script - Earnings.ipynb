{
 "cells": [
  {
   "cell_type": "markdown",
   "source": [
    "# Calculating Earnings Question from InterviewQs\r\n",
    "In this notebook the question solved by using python."
   ],
   "metadata": {}
  },
  {
   "cell_type": "markdown",
   "source": [
    "## Question\r\n",
    "## Date: September 17, 2021  \r\n",
    "\r\n",
    "![Question](images/question.png)"
   ],
   "metadata": {}
  },
  {
   "cell_type": "code",
   "execution_count": 16,
   "source": [
    "def earnings(wage, hours):\r\n",
    "    total = wage * hours\r\n",
    "\r\n",
    "    return (total, int(total * 0.7)) if total >= 2000 else (total, int(total * 0.85))\r\n",
    "\r\n",
    "# Higher tax applied\r\n",
    "pre, post = earnings(55, 40)\r\n",
    "print(\"Pre Tax Earning:\", \"$\"+str(pre))\r\n",
    "print(\"Post Tax Earning:\", \"$\"+str(post))"
   ],
   "outputs": [
    {
     "output_type": "stream",
     "name": "stdout",
     "text": [
      "Pre Tax Earning: $2200\n",
      "Post Tax Earning: $1540\n"
     ]
    }
   ],
   "metadata": {}
  },
  {
   "cell_type": "code",
   "execution_count": 15,
   "source": [
    "# Lower tax applied\r\n",
    "pre, post = earnings(20, 40)\r\n",
    "print(\"Pre Tax Earning:\", \"$\"+str(pre))\r\n",
    "print(\"Post Tax Earning:\", \"$\"+str(post))"
   ],
   "outputs": [
    {
     "output_type": "stream",
     "name": "stdout",
     "text": [
      "Pre Tax Earning: $800\n",
      "Post Tax Earning: $680\n"
     ]
    }
   ],
   "metadata": {}
  }
 ],
 "metadata": {
  "orig_nbformat": 4,
  "language_info": {
   "name": "python",
   "version": "3.9.6",
   "mimetype": "text/x-python",
   "codemirror_mode": {
    "name": "ipython",
    "version": 3
   },
   "pygments_lexer": "ipython3",
   "nbconvert_exporter": "python",
   "file_extension": ".py"
  },
  "kernelspec": {
   "name": "python3",
   "display_name": "Python 3.9.6 64-bit ('minimal_ds': conda)"
  },
  "interpreter": {
   "hash": "e2b6d8b99aac853d6e5f2a885b3202bb244b70b9b2a87ac691d00063ddd95a06"
  }
 },
 "nbformat": 4,
 "nbformat_minor": 2
}